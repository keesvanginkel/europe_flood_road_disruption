{
 "cells": [
  {
   "cell_type": "markdown",
   "id": "bronze-manufacturer",
   "metadata": {},
   "source": [
    "### Progress monitor\n",
    "Evaluate the progress of the percolation analysis"
   ]
  },
  {
   "cell_type": "code",
   "execution_count": 9,
   "id": "guilty-coalition",
   "metadata": {},
   "outputs": [],
   "source": [
    "from pathlib import Path\n",
    "import os"
   ]
  },
  {
   "cell_type": "code",
   "execution_count": 37,
   "id": "injured-blink",
   "metadata": {},
   "outputs": [
    {
     "data": {
      "text/plain": [
       "7177"
      ]
     },
     "execution_count": 37,
     "metadata": {},
     "output_type": "execute_result"
    }
   ],
   "source": [
    "to_eval = Path(r\"P:\\osm_flood\\network_analysis\\igraph\\albania\") #Path to evaluate\n",
    "assert to_eval.exists()\n",
    "scheduled_p = to_eval / 'scheduled'\n",
    "finished_p = to_eval / 'finished'\n",
    "\n",
    "if not scheduled_p.exists():\n",
    "    raise OSError(2, 'Directory with scheduled percolation analysis does not exists, maybe the percolation scheduler is not yet run?', '{}'.format(scheduled_p))\n",
    "\n",
    "if not finished_p.exists():\n",
    "    raise OSError(2, 'Directory with percolation results does not exist, maybe the percolation analysis is not started yet?', '{}'.format(finished_p))\n",
    "    \n",
    "#Most simple approach: compare number of files in scheduled_p\n",
    "n_scheduled = len(list(scheduled_p.glob('**/*.pkl'))) #number of pickles scheduled\n",
    "n_finished = len(list(finished_p.glob('**/*.pkl'))) "
   ]
  },
  {
   "cell_type": "code",
   "execution_count": 35,
   "id": "sustained-oregon",
   "metadata": {},
   "outputs": [
    {
     "data": {
      "text/plain": [
       "7177"
      ]
     },
     "execution_count": 35,
     "metadata": {},
     "output_type": "execute_result"
    }
   ],
   "source": [
    "len(list(scheduled_p.glob('**/*.pkl')))"
   ]
  },
  {
   "cell_type": "code",
   "execution_count": null,
   "id": "fallen-tanzania",
   "metadata": {},
   "outputs": [],
   "source": [
    "#Iterate over scheduled analysis\n",
    "for child in scheduled_p.iterdir():\n",
    "    combs = [] #has all the unique combinations\n",
    "    if child.is_dir(): \n",
    "        combs.append(int(child.name))\n",
    "        test_child = child #load one sample subdirectory in the next step, assuming structure of each subdir is similar\n",
    "\n",
    "#Check last subdir of the scheduled analysis\n",
    "len(list(test_child.glob('*.pkl')))\n"
   ]
  }
 ],
 "metadata": {
  "kernelspec": {
   "display_name": "Python 3",
   "language": "python",
   "name": "python3"
  },
  "language_info": {
   "codemirror_mode": {
    "name": "ipython",
    "version": 3
   },
   "file_extension": ".py",
   "mimetype": "text/x-python",
   "name": "python",
   "nbconvert_exporter": "python",
   "pygments_lexer": "ipython3",
   "version": "3.8.6"
  }
 },
 "nbformat": 4,
 "nbformat_minor": 5
}
