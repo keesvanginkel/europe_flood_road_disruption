{
 "cells": [
  {
   "cell_type": "markdown",
   "id": "experimental-tiger",
   "metadata": {},
   "source": [
    "### Script for aggregating the results of the giant component (GC) analysis"
   ]
  },
  {
   "cell_type": "code",
   "execution_count": 68,
   "id": "worldwide-probability",
   "metadata": {},
   "outputs": [],
   "source": [
    "from pathlib import Path\n",
    "import geopandas as gpd\n",
    "import pandas as pd\n",
    "import os\n",
    "import sys\n",
    "import matplotlib.pyplot as plt\n",
    "import matplotlib as mpl\n",
    "from matplotlib.colors import to_rgba_array\n",
    "from matplotlib.lines import Line2D\n",
    "\n",
    "    \n",
    "sys.path.append(\"../scripts\")\n",
    "from utils import *\n",
    "from Europe_utils import *\n",
    "\n",
    "config = load_config(file='config_unc.json')\n"
   ]
  },
  {
   "cell_type": "code",
   "execution_count": 2,
   "id": "passing-defense",
   "metadata": {},
   "outputs": [],
   "source": []
  },
  {
   "cell_type": "markdown",
   "id": "interim-wagner",
   "metadata": {},
   "source": [
    "# Load data for Belgium"
   ]
  },
  {
   "cell_type": "code",
   "execution_count": 110,
   "id": "uniform-wheat",
   "metadata": {},
   "outputs": [],
   "source": [
    "gc_dir = config['paths']['main_output'] / 'belgium_giant_component' / 'finished_gc'\n",
    "assert gc_dir.exists()"
   ]
  },
  {
   "cell_type": "code",
   "execution_count": 111,
   "id": "entire-frame",
   "metadata": {},
   "outputs": [],
   "source": [
    "def combine_finished_stochastic(finished_folder): #from visualisations_new\n",
    "    for folder in finished_folder.iterdir():\n",
    "        if folder.is_dir():\n",
    "            files = [f for f in folder.iterdir()]\n",
    "            df = pd.read_csv(files[0],sep=';')\n",
    "            for file in files[1:]:\n",
    "                df_add = pd.read_csv(file,sep=';')\n",
    "                df = pd.concat([df, df_add], sort='False',ignore_index=True)\n",
    "            df.to_csv(finished_folder / \"aoi_{}.csv\".format(folder.stem),sep=';')"
   ]
  },
  {
   "cell_type": "code",
   "execution_count": 112,
   "id": "standard-mining",
   "metadata": {},
   "outputs": [],
   "source": [
    "#combine_finished_stochastic(gc_dir) #need to do only once"
   ]
  },
  {
   "cell_type": "code",
   "execution_count": 113,
   "id": "friendly-finance",
   "metadata": {},
   "outputs": [
    {
     "data": {
      "text/plain": [
       "WindowsPath('D:/Europe_percolation/uncertainty_analysis/main_output/belgium_giant_component/finished_gc/reference.csv')"
      ]
     },
     "execution_count": 113,
     "metadata": {},
     "output_type": "execute_result"
    }
   ],
   "source": [
    "to_aggregate = []\n",
    "for file in gc_dir.iterdir():\n",
    "    if file.is_file():\n",
    "        if file.suffixes[-1] == '.csv':\n",
    "            if file.stem != 'reference':\n",
    "                to_aggregate.append(file)\n",
    "            else:\n",
    "                ref_file = file\n",
    "to_aggregate\n",
    "ref_file"
   ]
  },
  {
   "cell_type": "code",
   "execution_count": 114,
   "id": "geographic-thousand",
   "metadata": {},
   "outputs": [
    {
     "data": {
      "text/html": [
       "<div>\n",
       "<style scoped>\n",
       "    .dataframe tbody tr th:only-of-type {\n",
       "        vertical-align: middle;\n",
       "    }\n",
       "\n",
       "    .dataframe tbody tr th {\n",
       "        vertical-align: top;\n",
       "    }\n",
       "\n",
       "    .dataframe thead th {\n",
       "        text-align: right;\n",
       "    }\n",
       "</style>\n",
       "<table border=\"1\" class=\"dataframe\">\n",
       "  <thead>\n",
       "    <tr style=\"text-align: right;\">\n",
       "      <th></th>\n",
       "      <th>AoI combinations</th>\n",
       "      <th>AoI removed</th>\n",
       "      <th>avg extra time</th>\n",
       "      <th>disrupted</th>\n",
       "      <th>edges_in_giant</th>\n",
       "      <th>edges_in_graph</th>\n",
       "      <th>no detour</th>\n",
       "      <th>nodes_in_giant</th>\n",
       "      <th>nodes_in_graph</th>\n",
       "    </tr>\n",
       "  </thead>\n",
       "  <tbody>\n",
       "    <tr>\n",
       "      <th>0</th>\n",
       "      <td>1.0</td>\n",
       "      <td>23751.0</td>\n",
       "      <td>0.000135</td>\n",
       "      <td>0.634249</td>\n",
       "      <td>65591.0</td>\n",
       "      <td>65735.0</td>\n",
       "      <td>0.000000</td>\n",
       "      <td>65735.0</td>\n",
       "      <td>183632.0</td>\n",
       "    </tr>\n",
       "    <tr>\n",
       "      <th>1</th>\n",
       "      <td>1.0</td>\n",
       "      <td>22539.0</td>\n",
       "      <td>0.012464</td>\n",
       "      <td>9.196617</td>\n",
       "      <td>65552.0</td>\n",
       "      <td>65710.0</td>\n",
       "      <td>0.000000</td>\n",
       "      <td>65710.0</td>\n",
       "      <td>183632.0</td>\n",
       "    </tr>\n",
       "    <tr>\n",
       "      <th>2</th>\n",
       "      <td>1.0</td>\n",
       "      <td>23057.0</td>\n",
       "      <td>0.000000</td>\n",
       "      <td>0.000000</td>\n",
       "      <td>65565.0</td>\n",
       "      <td>65709.0</td>\n",
       "      <td>0.000000</td>\n",
       "      <td>65709.0</td>\n",
       "      <td>183632.0</td>\n",
       "    </tr>\n",
       "    <tr>\n",
       "      <th>3</th>\n",
       "      <td>1.0</td>\n",
       "      <td>22814.0</td>\n",
       "      <td>0.000000</td>\n",
       "      <td>0.000000</td>\n",
       "      <td>65589.0</td>\n",
       "      <td>65734.0</td>\n",
       "      <td>0.000000</td>\n",
       "      <td>65734.0</td>\n",
       "      <td>183632.0</td>\n",
       "    </tr>\n",
       "    <tr>\n",
       "      <th>4</th>\n",
       "      <td>1.0</td>\n",
       "      <td>22815.0</td>\n",
       "      <td>0.000000</td>\n",
       "      <td>0.000000</td>\n",
       "      <td>65587.0</td>\n",
       "      <td>65732.0</td>\n",
       "      <td>0.000000</td>\n",
       "      <td>65732.0</td>\n",
       "      <td>183632.0</td>\n",
       "    </tr>\n",
       "    <tr>\n",
       "      <th>...</th>\n",
       "      <td>...</td>\n",
       "      <td>...</td>\n",
       "      <td>...</td>\n",
       "      <td>...</td>\n",
       "      <td>...</td>\n",
       "      <td>...</td>\n",
       "      <td>...</td>\n",
       "      <td>...</td>\n",
       "      <td>...</td>\n",
       "    </tr>\n",
       "    <tr>\n",
       "      <th>28179</th>\n",
       "      <td>9.0</td>\n",
       "      <td>[22317, 22441, 22730, 23482, 22546, 23300, 222...</td>\n",
       "      <td>0.048183</td>\n",
       "      <td>27.589852</td>\n",
       "      <td>64612.0</td>\n",
       "      <td>64938.0</td>\n",
       "      <td>4.545455</td>\n",
       "      <td>64938.0</td>\n",
       "      <td>183632.0</td>\n",
       "    </tr>\n",
       "    <tr>\n",
       "      <th>28180</th>\n",
       "      <td>9.0</td>\n",
       "      <td>[22111, 22032, 25075, 24959, 23404, 22539, 241...</td>\n",
       "      <td>0.032028</td>\n",
       "      <td>25.581395</td>\n",
       "      <td>65292.0</td>\n",
       "      <td>65488.0</td>\n",
       "      <td>0.000000</td>\n",
       "      <td>65488.0</td>\n",
       "      <td>183632.0</td>\n",
       "    </tr>\n",
       "    <tr>\n",
       "      <th>28181</th>\n",
       "      <td>9.0</td>\n",
       "      <td>[23582, 23491, 22319, 23491, 24170, 22219, 239...</td>\n",
       "      <td>0.069787</td>\n",
       "      <td>36.575053</td>\n",
       "      <td>64950.0</td>\n",
       "      <td>65192.0</td>\n",
       "      <td>0.000000</td>\n",
       "      <td>65192.0</td>\n",
       "      <td>183632.0</td>\n",
       "    </tr>\n",
       "    <tr>\n",
       "      <th>28182</th>\n",
       "      <td>9.0</td>\n",
       "      <td>[22330, 23397, 24347, 22035, 23659, 25211, 225...</td>\n",
       "      <td>0.007142</td>\n",
       "      <td>10.570825</td>\n",
       "      <td>65447.0</td>\n",
       "      <td>65635.0</td>\n",
       "      <td>0.000000</td>\n",
       "      <td>65635.0</td>\n",
       "      <td>183632.0</td>\n",
       "    </tr>\n",
       "    <tr>\n",
       "      <th>28183</th>\n",
       "      <td>9.0</td>\n",
       "      <td>[22116, 22724, 24175, 22542, 24172, 22547, 253...</td>\n",
       "      <td>0.026577</td>\n",
       "      <td>19.873150</td>\n",
       "      <td>65214.0</td>\n",
       "      <td>65413.0</td>\n",
       "      <td>0.000000</td>\n",
       "      <td>65413.0</td>\n",
       "      <td>183632.0</td>\n",
       "    </tr>\n",
       "  </tbody>\n",
       "</table>\n",
       "<p>28184 rows × 9 columns</p>\n",
       "</div>"
      ],
      "text/plain": [
       "       AoI combinations                                        AoI removed  \\\n",
       "0                   1.0                                            23751.0   \n",
       "1                   1.0                                            22539.0   \n",
       "2                   1.0                                            23057.0   \n",
       "3                   1.0                                            22814.0   \n",
       "4                   1.0                                            22815.0   \n",
       "...                 ...                                                ...   \n",
       "28179               9.0  [22317, 22441, 22730, 23482, 22546, 23300, 222...   \n",
       "28180               9.0  [22111, 22032, 25075, 24959, 23404, 22539, 241...   \n",
       "28181               9.0  [23582, 23491, 22319, 23491, 24170, 22219, 239...   \n",
       "28182               9.0  [22330, 23397, 24347, 22035, 23659, 25211, 225...   \n",
       "28183               9.0  [22116, 22724, 24175, 22542, 24172, 22547, 253...   \n",
       "\n",
       "       avg extra time  disrupted  edges_in_giant  edges_in_graph  no detour  \\\n",
       "0            0.000135   0.634249         65591.0         65735.0   0.000000   \n",
       "1            0.012464   9.196617         65552.0         65710.0   0.000000   \n",
       "2            0.000000   0.000000         65565.0         65709.0   0.000000   \n",
       "3            0.000000   0.000000         65589.0         65734.0   0.000000   \n",
       "4            0.000000   0.000000         65587.0         65732.0   0.000000   \n",
       "...               ...        ...             ...             ...        ...   \n",
       "28179        0.048183  27.589852         64612.0         64938.0   4.545455   \n",
       "28180        0.032028  25.581395         65292.0         65488.0   0.000000   \n",
       "28181        0.069787  36.575053         64950.0         65192.0   0.000000   \n",
       "28182        0.007142  10.570825         65447.0         65635.0   0.000000   \n",
       "28183        0.026577  19.873150         65214.0         65413.0   0.000000   \n",
       "\n",
       "       nodes_in_giant  nodes_in_graph  \n",
       "0             65735.0        183632.0  \n",
       "1             65710.0        183632.0  \n",
       "2             65709.0        183632.0  \n",
       "3             65734.0        183632.0  \n",
       "4             65732.0        183632.0  \n",
       "...               ...             ...  \n",
       "28179         64938.0        183632.0  \n",
       "28180         65488.0        183632.0  \n",
       "28181         65192.0        183632.0  \n",
       "28182         65635.0        183632.0  \n",
       "28183         65413.0        183632.0  \n",
       "\n",
       "[28184 rows x 9 columns]"
      ]
     },
     "execution_count": 114,
     "metadata": {},
     "output_type": "execute_result"
    }
   ],
   "source": [
    "#Process normal result files\n",
    "df = pd.read_csv(to_aggregate[0],sep=';')\n",
    "for file in to_aggregate[1:]:\n",
    "    df_add = pd.read_csv(file,sep=';')\n",
    "    df = pd.concat([df, df_add], sort='False',ignore_index=True)\n",
    "\n",
    "df_add = pd.read_csv(ref_file,sep=';')\n",
    "    \n",
    "df = df.drop(columns=[col for col in df.columns if col.startswith('Unnamed:')])\n",
    "df"
   ]
  },
  {
   "cell_type": "code",
   "execution_count": 115,
   "id": "intimate-remains",
   "metadata": {},
   "outputs": [
    {
     "data": {
      "text/plain": [
       "Unnamed: 0            undisturbed graph\n",
       "ref_edges_in_graph                65739\n",
       "ref_nodes_in_graph               183632\n",
       "ref_edges_in_giant                65595\n",
       "ref_nodes_in_giant                65739\n",
       "Name: 0, dtype: object"
      ]
     },
     "execution_count": 115,
     "metadata": {},
     "output_type": "execute_result"
    }
   ],
   "source": [
    "#Process reference file\n",
    "reference = pd.read_csv(ref_file,sep=';')\n",
    "reference = reference.iloc[0]\n",
    "reference"
   ]
  },
  {
   "cell_type": "code",
   "execution_count": 116,
   "id": "matched-reset",
   "metadata": {},
   "outputs": [
    {
     "data": {
      "text/plain": [
       "Unnamed: 0            undisturbed graph\n",
       "ref_edges_in_graph                65739\n",
       "ref_nodes_in_graph               183632\n",
       "ref_edges_in_giant                65595\n",
       "ref_nodes_in_giant                65739\n",
       "Name: 0, dtype: object"
      ]
     },
     "execution_count": 116,
     "metadata": {},
     "output_type": "execute_result"
    }
   ],
   "source": [
    "reference"
   ]
  },
  {
   "cell_type": "markdown",
   "id": "falling-victim",
   "metadata": {},
   "source": [
    "### Assumption #1: we are only interested in number of edges in the giant (both undisturbed and disturbed)\n",
    "y-axis: N_disrupted,GC, N_original_GC\n",
    "\n",
    "x-axis: AoI absoluut / (of relatief)"
   ]
  },
  {
   "cell_type": "code",
   "execution_count": 117,
   "id": "environmental-helping",
   "metadata": {},
   "outputs": [
    {
     "data": {
      "text/html": [
       "<div>\n",
       "<style scoped>\n",
       "    .dataframe tbody tr th:only-of-type {\n",
       "        vertical-align: middle;\n",
       "    }\n",
       "\n",
       "    .dataframe tbody tr th {\n",
       "        vertical-align: top;\n",
       "    }\n",
       "\n",
       "    .dataframe thead th {\n",
       "        text-align: right;\n",
       "    }\n",
       "</style>\n",
       "<table border=\"1\" class=\"dataframe\">\n",
       "  <thead>\n",
       "    <tr style=\"text-align: right;\">\n",
       "      <th></th>\n",
       "      <th>AoI combinations</th>\n",
       "      <th>AoI removed</th>\n",
       "      <th>avg extra time</th>\n",
       "      <th>disrupted</th>\n",
       "      <th>edges_in_giant</th>\n",
       "      <th>edges_in_graph</th>\n",
       "      <th>no detour</th>\n",
       "      <th>nodes_in_giant</th>\n",
       "      <th>nodes_in_graph</th>\n",
       "      <th>edges_in_giant_%</th>\n",
       "    </tr>\n",
       "  </thead>\n",
       "  <tbody>\n",
       "    <tr>\n",
       "      <th>0</th>\n",
       "      <td>1.0</td>\n",
       "      <td>23751.0</td>\n",
       "      <td>0.000135</td>\n",
       "      <td>0.634249</td>\n",
       "      <td>65591.0</td>\n",
       "      <td>65735.0</td>\n",
       "      <td>0.0</td>\n",
       "      <td>65735.0</td>\n",
       "      <td>183632.0</td>\n",
       "      <td>99.993902</td>\n",
       "    </tr>\n",
       "    <tr>\n",
       "      <th>1</th>\n",
       "      <td>1.0</td>\n",
       "      <td>22539.0</td>\n",
       "      <td>0.012464</td>\n",
       "      <td>9.196617</td>\n",
       "      <td>65552.0</td>\n",
       "      <td>65710.0</td>\n",
       "      <td>0.0</td>\n",
       "      <td>65710.0</td>\n",
       "      <td>183632.0</td>\n",
       "      <td>99.934446</td>\n",
       "    </tr>\n",
       "    <tr>\n",
       "      <th>2</th>\n",
       "      <td>1.0</td>\n",
       "      <td>23057.0</td>\n",
       "      <td>0.000000</td>\n",
       "      <td>0.000000</td>\n",
       "      <td>65565.0</td>\n",
       "      <td>65709.0</td>\n",
       "      <td>0.0</td>\n",
       "      <td>65709.0</td>\n",
       "      <td>183632.0</td>\n",
       "      <td>99.954265</td>\n",
       "    </tr>\n",
       "    <tr>\n",
       "      <th>3</th>\n",
       "      <td>1.0</td>\n",
       "      <td>22814.0</td>\n",
       "      <td>0.000000</td>\n",
       "      <td>0.000000</td>\n",
       "      <td>65589.0</td>\n",
       "      <td>65734.0</td>\n",
       "      <td>0.0</td>\n",
       "      <td>65734.0</td>\n",
       "      <td>183632.0</td>\n",
       "      <td>99.990853</td>\n",
       "    </tr>\n",
       "    <tr>\n",
       "      <th>4</th>\n",
       "      <td>1.0</td>\n",
       "      <td>22815.0</td>\n",
       "      <td>0.000000</td>\n",
       "      <td>0.000000</td>\n",
       "      <td>65587.0</td>\n",
       "      <td>65732.0</td>\n",
       "      <td>0.0</td>\n",
       "      <td>65732.0</td>\n",
       "      <td>183632.0</td>\n",
       "      <td>99.987804</td>\n",
       "    </tr>\n",
       "  </tbody>\n",
       "</table>\n",
       "</div>"
      ],
      "text/plain": [
       "   AoI combinations AoI removed  avg extra time  disrupted  edges_in_giant  \\\n",
       "0               1.0     23751.0        0.000135   0.634249         65591.0   \n",
       "1               1.0     22539.0        0.012464   9.196617         65552.0   \n",
       "2               1.0     23057.0        0.000000   0.000000         65565.0   \n",
       "3               1.0     22814.0        0.000000   0.000000         65589.0   \n",
       "4               1.0     22815.0        0.000000   0.000000         65587.0   \n",
       "\n",
       "   edges_in_graph  no detour  nodes_in_giant  nodes_in_graph  edges_in_giant_%  \n",
       "0         65735.0        0.0         65735.0        183632.0         99.993902  \n",
       "1         65710.0        0.0         65710.0        183632.0         99.934446  \n",
       "2         65709.0        0.0         65709.0        183632.0         99.954265  \n",
       "3         65734.0        0.0         65734.0        183632.0         99.990853  \n",
       "4         65732.0        0.0         65732.0        183632.0         99.987804  "
      ]
     },
     "execution_count": 117,
     "metadata": {},
     "output_type": "execute_result"
    }
   ],
   "source": [
    "dfA = df.copy()\n",
    "dfA['edges_in_giant_%'] = dfA['edges_in_giant'] / reference['ref_edges_in_giant'] * 100\n",
    "dfA.head()"
   ]
  },
  {
   "cell_type": "markdown",
   "id": "spare-bicycle",
   "metadata": {},
   "source": [
    "### Make plots"
   ]
  },
  {
   "cell_type": "code",
   "execution_count": 69,
   "id": "given-december",
   "metadata": {},
   "outputs": [
    {
     "data": {
      "image/png": "[encoded data removed]",
      "text/plain": [
       "<Figure size 432x288 with 1 Axes>"
      ]
     },
     "metadata": {
      "needs_background": "light"
     },
     "output_type": "display_data"
    }
   ],
   "source": [
    "#colorscheme\n",
    "colors = ['#9e0142','#d53e4f','#f46d43','#fdae61','#fee08b','#e6f598','#abdda4','#66c2a5','#3288bd','#5e4fa2']\n",
    "roads_cc = colors[0:5][::-1] #We iterate over the roads in reversed order\n",
    "roads_lw_cc = [1,0.7,0.5,.3,.3][::-1] #linewidth cycler\n",
    "nuts_fill = '#abdda4'\n",
    "nuts_border = '#66c2a5'\n",
    "\n",
    "length_cols = ['Total_Edge_Length', 'Len_Motorway', 'Len_Trunk', 'Len_Primary', 'Len_Secondary', 'Len_Tertiary']\n",
    "\n",
    "road_types = ['motorway','trunk','primary','secondary','tertiary']\n",
    "\n",
    "plt.imshow(to_rgba_array(colors).reshape(1,len(colors),4))\n",
    "plt.show()\n",
    "\n",
    "\n",
    "font = {'family' : 'arial'}\n",
    "mpl.rc('font', **font)  # pass in the font dict as kwargs\n",
    "grey = '#444444'\n",
    "mpl.rcParams.update({'text.color' : grey,\n",
    "                     'axes.labelcolor' : grey,\n",
    "                     'axes.titlecolor' : grey,\n",
    "                     'axes.edgecolor' : grey,\n",
    "                     'xtick.color': grey, #This is the color of the categories on y- and x-axis\n",
    "                     'ytick.color': grey                    })"
   ]
  },
  {
   "cell_type": "code",
   "execution_count": 70,
   "id": "pointed-roman",
   "metadata": {},
   "outputs": [
    {
     "data": {
      "image/png": "[encoded data removed]",
      "text/plain": [
       "<Figure size 432x288 with 1 Axes>"
      ]
     },
     "metadata": {
      "needs_background": "light"
     },
     "output_type": "display_data"
    }
   ],
   "source": [
    "#5 contrasting colors\n",
    "c = [j for j in colors]\n",
    "color_5 = [c[0],c[3],c[5],c[7],c[9]]\n",
    "plt.imshow(to_rgba_array(color_5).reshape(1,len(color_5),4))\n",
    "plt.show()"
   ]
  },
  {
   "cell_type": "code",
   "execution_count": 136,
   "id": "theoretical-might",
   "metadata": {},
   "outputs": [
    {
     "data": {
      "text/plain": [
       "Text(0.5, 1.0, 'Belgium')"
      ]
     },
     "execution_count": 136,
     "metadata": {},
     "output_type": "execute_result"
    },
    {
     "data": {
      "image/png": "[encoded data removed]",
      "text/plain": [
       "<Figure size 1152x720 with 2 Axes>"
      ]
     },
     "metadata": {
      "needs_background": "light"
     },
     "output_type": "display_data"
    }
   ],
   "source": [
    "rows = 2\n",
    "cols = 1\n",
    "fig,axes = plt.subplots(rows,cols,figsize=(16,10))\n",
    "\n",
    "Type = 'edges_in_giant_%'\n",
    "\n",
    "\n",
    "fliermarker = 'd'\n",
    "meanmarkersize = 6\n",
    "\n",
    "########### NUTS-3 ################\n",
    "c = colors[3]\n",
    "alpha = 0.5\n",
    "\n",
    "\n",
    "boxprops = dict(linestyle='-', linewidth=2, color=c,alpha=1)\n",
    "flierprops = dict(marker=fliermarker, markerfacecolor=c, markersize=6,\n",
    "                  markeredgecolor='none',alpha=alpha)\n",
    "medianprops = dict(linewidth=2.5, color=c,alpha=1)\n",
    "meanpointprops = dict(marker='o', markeredgecolor=c,alpha=1, markersize = meanmarkersize,\n",
    "                      markerfacecolor=c)\n",
    "capprops = dict(color=c,alpha=1)\n",
    "whiskerprops = dict(color=c,alpha=1)\n",
    "#meanlineprops = dict(linestyle='-', linewidth=2.5, color=c)\n",
    "\n",
    "dfA.boxplot(by='AoI combinations',column=Type,ax=axes[0],showmeans=True,\n",
    "        boxprops=boxprops,flierprops=flierprops,medianprops=medianprops,\n",
    "        meanprops=meanpointprops,capprops=capprops, whiskerprops=whiskerprops)\n",
    "\n",
    "\n",
    "handles_S = [\n",
    "            Line2D([0], [0], color=colors[3], alpha=1,label='NUTS-3 regions (500 repetitions)',linestyle='-'),\n",
    "            Line2D([0], [0], color=colors[8], alpha=1,label='NUTS-2 regions (500 repetitions)',linestyle='-')]\n",
    "#axes[0].legend(handles=handles_S) #,labels=labels_S\n",
    "axes[0].set_title('Belgium')\n",
    "\n",
    "\n"
   ]
  },
  {
   "cell_type": "markdown",
   "id": "accessory-decision",
   "metadata": {},
   "source": [
    "# Data for Latvia"
   ]
  },
  {
   "cell_type": "code",
   "execution_count": 119,
   "id": "under-fetish",
   "metadata": {},
   "outputs": [],
   "source": [
    "gc_dir = config['paths']['main_output'] / 'latvia_giant_component' / 'finished_gc'\n",
    "assert gc_dir.exists()"
   ]
  },
  {
   "cell_type": "code",
   "execution_count": 120,
   "id": "dynamic-break",
   "metadata": {},
   "outputs": [],
   "source": [
    "#combine_finished_stochastic(gc_dir)"
   ]
  },
  {
   "cell_type": "code",
   "execution_count": 122,
   "id": "incident-university",
   "metadata": {},
   "outputs": [],
   "source": [
    "to_aggregate = []\n",
    "for file in gc_dir.iterdir():\n",
    "    if file.is_file():\n",
    "        if file.suffixes[-1] == '.csv':\n",
    "            if file.stem != 'reference':\n",
    "                to_aggregate.append(file)\n",
    "            else:\n",
    "                ref_file = file\n",
    "#to_aggregate\n",
    "#ref_file"
   ]
  },
  {
   "cell_type": "code",
   "execution_count": 123,
   "id": "coordinate-faith",
   "metadata": {},
   "outputs": [
    {
     "data": {
      "text/html": [
       "<div>\n",
       "<style scoped>\n",
       "    .dataframe tbody tr th:only-of-type {\n",
       "        vertical-align: middle;\n",
       "    }\n",
       "\n",
       "    .dataframe tbody tr th {\n",
       "        vertical-align: top;\n",
       "    }\n",
       "\n",
       "    .dataframe thead th {\n",
       "        text-align: right;\n",
       "    }\n",
       "</style>\n",
       "<table border=\"1\" class=\"dataframe\">\n",
       "  <thead>\n",
       "    <tr style=\"text-align: right;\">\n",
       "      <th></th>\n",
       "      <th>AoI combinations</th>\n",
       "      <th>AoI removed</th>\n",
       "      <th>avg extra time</th>\n",
       "      <th>disrupted</th>\n",
       "      <th>edges_in_giant</th>\n",
       "      <th>edges_in_graph</th>\n",
       "      <th>no detour</th>\n",
       "      <th>nodes_in_giant</th>\n",
       "      <th>nodes_in_graph</th>\n",
       "    </tr>\n",
       "  </thead>\n",
       "  <tbody>\n",
       "    <tr>\n",
       "      <th>0</th>\n",
       "      <td>1.0</td>\n",
       "      <td>12288.0</td>\n",
       "      <td>0.0</td>\n",
       "      <td>0.0</td>\n",
       "      <td>14051.0</td>\n",
       "      <td>14051.0</td>\n",
       "      <td>0.0</td>\n",
       "      <td>14051.0</td>\n",
       "      <td>28573.0</td>\n",
       "    </tr>\n",
       "    <tr>\n",
       "      <th>1</th>\n",
       "      <td>1.0</td>\n",
       "      <td>12289.0</td>\n",
       "      <td>0.0</td>\n",
       "      <td>0.0</td>\n",
       "      <td>14063.0</td>\n",
       "      <td>14063.0</td>\n",
       "      <td>0.0</td>\n",
       "      <td>14063.0</td>\n",
       "      <td>28573.0</td>\n",
       "    </tr>\n",
       "  </tbody>\n",
       "</table>\n",
       "</div>"
      ],
      "text/plain": [
       "   AoI combinations AoI removed  avg extra time  disrupted  edges_in_giant  \\\n",
       "0               1.0     12288.0             0.0        0.0         14051.0   \n",
       "1               1.0     12289.0             0.0        0.0         14063.0   \n",
       "\n",
       "   edges_in_graph  no detour  nodes_in_giant  nodes_in_graph  \n",
       "0         14051.0        0.0         14051.0         28573.0  \n",
       "1         14063.0        0.0         14063.0         28573.0  "
      ]
     },
     "execution_count": 123,
     "metadata": {},
     "output_type": "execute_result"
    }
   ],
   "source": [
    "#Process normal result files\n",
    "df = pd.read_csv(to_aggregate[0],sep=';')\n",
    "for file in to_aggregate[1:]:\n",
    "    df_add = pd.read_csv(file,sep=';')\n",
    "    df = pd.concat([df, df_add], sort='False',ignore_index=True)\n",
    "\n",
    "df_add = pd.read_csv(ref_file,sep=';')\n",
    "    \n",
    "df = df.drop(columns=[col for col in df.columns if col.startswith('Unnamed:')])\n",
    "df.head(n=2)"
   ]
  },
  {
   "cell_type": "code",
   "execution_count": 124,
   "id": "structural-making",
   "metadata": {},
   "outputs": [
    {
     "data": {
      "text/plain": [
       "Unnamed: 0            undisturbed graph\n",
       "ref_edges_in_graph                14066\n",
       "ref_nodes_in_graph                28573\n",
       "ref_edges_in_giant                14066\n",
       "ref_nodes_in_giant                14066\n",
       "Name: 0, dtype: object"
      ]
     },
     "execution_count": 124,
     "metadata": {},
     "output_type": "execute_result"
    }
   ],
   "source": [
    "#Process reference file\n",
    "reference = pd.read_csv(ref_file,sep=';')\n",
    "reference = reference.iloc[0]\n",
    "reference"
   ]
  },
  {
   "cell_type": "code",
   "execution_count": 134,
   "id": "impossible-isolation",
   "metadata": {},
   "outputs": [
    {
     "data": {
      "text/html": [
       "<div>\n",
       "<style scoped>\n",
       "    .dataframe tbody tr th:only-of-type {\n",
       "        vertical-align: middle;\n",
       "    }\n",
       "\n",
       "    .dataframe tbody tr th {\n",
       "        vertical-align: top;\n",
       "    }\n",
       "\n",
       "    .dataframe thead th {\n",
       "        text-align: right;\n",
       "    }\n",
       "</style>\n",
       "<table border=\"1\" class=\"dataframe\">\n",
       "  <thead>\n",
       "    <tr style=\"text-align: right;\">\n",
       "      <th></th>\n",
       "      <th>AoI combinations</th>\n",
       "      <th>AoI removed</th>\n",
       "      <th>avg extra time</th>\n",
       "      <th>disrupted</th>\n",
       "      <th>edges_in_giant</th>\n",
       "      <th>edges_in_graph</th>\n",
       "      <th>no detour</th>\n",
       "      <th>nodes_in_giant</th>\n",
       "      <th>nodes_in_graph</th>\n",
       "      <th>edges_in_giant_%</th>\n",
       "    </tr>\n",
       "  </thead>\n",
       "  <tbody>\n",
       "    <tr>\n",
       "      <th>0</th>\n",
       "      <td>1</td>\n",
       "      <td>12288.0</td>\n",
       "      <td>0.0</td>\n",
       "      <td>0.0</td>\n",
       "      <td>14051.0</td>\n",
       "      <td>14051.0</td>\n",
       "      <td>0.0</td>\n",
       "      <td>14051.0</td>\n",
       "      <td>28573.0</td>\n",
       "      <td>99.893360</td>\n",
       "    </tr>\n",
       "    <tr>\n",
       "      <th>1</th>\n",
       "      <td>1</td>\n",
       "      <td>12289.0</td>\n",
       "      <td>0.0</td>\n",
       "      <td>0.0</td>\n",
       "      <td>14063.0</td>\n",
       "      <td>14063.0</td>\n",
       "      <td>0.0</td>\n",
       "      <td>14063.0</td>\n",
       "      <td>28573.0</td>\n",
       "      <td>99.978672</td>\n",
       "    </tr>\n",
       "    <tr>\n",
       "      <th>2</th>\n",
       "      <td>1</td>\n",
       "      <td>12338.0</td>\n",
       "      <td>0.0</td>\n",
       "      <td>0.0</td>\n",
       "      <td>14047.0</td>\n",
       "      <td>14050.0</td>\n",
       "      <td>0.0</td>\n",
       "      <td>14050.0</td>\n",
       "      <td>28573.0</td>\n",
       "      <td>99.864923</td>\n",
       "    </tr>\n",
       "    <tr>\n",
       "      <th>3</th>\n",
       "      <td>1</td>\n",
       "      <td>12823.0</td>\n",
       "      <td>0.0</td>\n",
       "      <td>0.0</td>\n",
       "      <td>14065.0</td>\n",
       "      <td>14065.0</td>\n",
       "      <td>0.0</td>\n",
       "      <td>14065.0</td>\n",
       "      <td>28573.0</td>\n",
       "      <td>99.992891</td>\n",
       "    </tr>\n",
       "    <tr>\n",
       "      <th>4</th>\n",
       "      <td>1</td>\n",
       "      <td>12870.0</td>\n",
       "      <td>0.0</td>\n",
       "      <td>0.0</td>\n",
       "      <td>14065.0</td>\n",
       "      <td>14065.0</td>\n",
       "      <td>0.0</td>\n",
       "      <td>14065.0</td>\n",
       "      <td>28573.0</td>\n",
       "      <td>99.992891</td>\n",
       "    </tr>\n",
       "  </tbody>\n",
       "</table>\n",
       "</div>"
      ],
      "text/plain": [
       "   AoI combinations AoI removed  avg extra time  disrupted  edges_in_giant  \\\n",
       "0                 1     12288.0             0.0        0.0         14051.0   \n",
       "1                 1     12289.0             0.0        0.0         14063.0   \n",
       "2                 1     12338.0             0.0        0.0         14047.0   \n",
       "3                 1     12823.0             0.0        0.0         14065.0   \n",
       "4                 1     12870.0             0.0        0.0         14065.0   \n",
       "\n",
       "   edges_in_graph  no detour  nodes_in_giant  nodes_in_graph  edges_in_giant_%  \n",
       "0         14051.0        0.0         14051.0         28573.0         99.893360  \n",
       "1         14063.0        0.0         14063.0         28573.0         99.978672  \n",
       "2         14050.0        0.0         14050.0         28573.0         99.864923  \n",
       "3         14065.0        0.0         14065.0         28573.0         99.992891  \n",
       "4         14065.0        0.0         14065.0         28573.0         99.992891  "
      ]
     },
     "execution_count": 134,
     "metadata": {},
     "output_type": "execute_result"
    }
   ],
   "source": [
    "dfB = df.copy()\n",
    "dfB['edges_in_giant_%'] = dfB['edges_in_giant'] / reference['ref_edges_in_giant'] * 100\n",
    "df['AoI combinations'] = df['AoI combinations'].apply(lambda x: int(x))\n",
    "dfB.head()"
   ]
  },
  {
   "cell_type": "code",
   "execution_count": 138,
   "id": "suited-copper",
   "metadata": {},
   "outputs": [
    {
     "data": {
      "image/png": "[encoded data removed]",
      "text/plain": [
       "<Figure size 1152x720 with 2 Axes>"
      ]
     },
     "execution_count": 138,
     "metadata": {},
     "output_type": "execute_result"
    }
   ],
   "source": [
    "########### NUTS-3 ################\n",
    "c = colors[3]\n",
    "alpha = 0.5\n",
    "\n",
    "\n",
    "boxprops = dict(linestyle='-', linewidth=2, color=c,alpha=1)\n",
    "flierprops = dict(marker=fliermarker, markerfacecolor=c, markersize=6,\n",
    "                  markeredgecolor='none',alpha=alpha)\n",
    "medianprops = dict(linewidth=2.5, color=c,alpha=1)\n",
    "meanpointprops = dict(marker='o', markeredgecolor=c,alpha=1, markersize = meanmarkersize,\n",
    "                      markerfacecolor=c)\n",
    "capprops = dict(color=c,alpha=1)\n",
    "whiskerprops = dict(color=c,alpha=1)\n",
    "#meanlineprops = dict(linestyle='-', linewidth=2.5, color=c)\n",
    "\n",
    "dfB.boxplot(by='AoI combinations',column=Type,ax=axes[1],showmeans=True,\n",
    "        boxprops=boxprops,flierprops=flierprops,medianprops=medianprops,\n",
    "        meanprops=meanpointprops,capprops=capprops, whiskerprops=whiskerprops)\n",
    "\n",
    "\n",
    "handles_S = [\n",
    "            Line2D([0], [0], color=colors[3], alpha=1,label='NUTS-3 regions (500 repetitions)',linestyle='-'),\n",
    "            Line2D([0], [0], color=colors[8], alpha=1,label='NUTS-2 regions (500 repetitions)',linestyle='-')]\n",
    "#axes[0].legend(handles=handles_S) #,labels=labels_S\n",
    "axes[1].set_title('Latvia')\n",
    "\n",
    "for ax in axes:\n",
    "        # Hide the right and top spines\n",
    "        ax.spines['right'].set_visible(False)\n",
    "        ax.spines['top'].set_visible(False)\n",
    "\n",
    "        # Only show ticks on the left and bottom spines\n",
    "        ax.yaxis.set_ticks_position('left')\n",
    "        ax.xaxis.set_ticks_position('bottom')\n",
    "        \n",
    "        #remove labels\n",
    "        ax.set_ylabel(ylabel='Size of Giant component')\n",
    "        ax.set_xlabel(xlabel='# of microfloods')\n",
    "        \n",
    "        ax.set_ylim(0,100)\n",
    "        #ax.set_xlim(0,100)\n",
    "        ax.grid(b=None)\n",
    "        \n",
    "fig.suptitle(t=None)\n",
    "\n",
    "fig"
   ]
  },
  {
   "cell_type": "code",
   "execution_count": null,
   "id": "square-policy",
   "metadata": {},
   "outputs": [],
   "source": []
  }
 ],
 "metadata": {
  "kernelspec": {
   "display_name": "Python 3",
   "language": "python",
   "name": "python3"
  },
  "language_info": {
   "codemirror_mode": {
    "name": "ipython",
    "version": 3
   },
   "file_extension": ".py",
   "mimetype": "text/x-python",
   "name": "python",
   "nbconvert_exporter": "python",
   "pygments_lexer": "ipython3",
   "version": "3.8.6"
  }
 },
 "nbformat": 4,
 "nbformat_minor": 5
}
